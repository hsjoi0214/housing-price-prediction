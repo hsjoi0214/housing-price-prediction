{
 "cells": [
  {
   "cell_type": "markdown",
   "id": "fc0119f2",
   "metadata": {},
   "source": [
    "# EDA"
   ]
  },
  {
   "cell_type": "code",
   "execution_count": 1,
   "id": "19b83b70",
   "metadata": {},
   "outputs": [],
   "source": [
    "import pandas as pd"
   ]
  },
  {
   "cell_type": "code",
   "execution_count": 4,
   "id": "380d0e2f",
   "metadata": {},
   "outputs": [],
   "source": [
    "df = pd.read_csv('/Users/pnjoshi/Documents/courses/DataScience-Bootcamp/DS/project-08/project/housing_price_prediction/data/raw/housing_iteration_6_regression.csv')"
   ]
  },
  {
   "cell_type": "code",
   "execution_count": 5,
   "id": "8f6c451b",
   "metadata": {},
   "outputs": [],
   "source": [
    "feature_columns = df.drop(columns=['SalePrice'])"
   ]
  },
  {
   "cell_type": "code",
   "execution_count": 7,
   "id": "f8b40e24",
   "metadata": {},
   "outputs": [],
   "source": [
    "total_features = feature_columns.shape[1]"
   ]
  },
  {
   "cell_type": "code",
   "execution_count": 8,
   "id": "01311e0a",
   "metadata": {},
   "outputs": [],
   "source": [
    "numerical_features = feature_columns.select_dtypes(include=['int64', 'float64']).columns.tolist()\n",
    "categorical_features = feature_columns.select_dtypes(include='object').columns.tolist()"
   ]
  },
  {
   "cell_type": "code",
   "execution_count": 9,
   "id": "1cfd7b21",
   "metadata": {},
   "outputs": [],
   "source": [
    "ordinal_features = [\n",
    "    'OverallQual', 'OverallCond',\n",
    "    'ExterQual', 'ExterCond',\n",
    "    'BsmtQual', 'BsmtCond', 'BsmtExposure',\n",
    "    'BsmtFinType1', 'BsmtFinType2',\n",
    "    'HeatingQC', 'KitchenQual', 'FireplaceQu',\n",
    "    'GarageFinish', 'GarageQual', 'GarageCond',\n",
    "    'Functional', 'PavedDrive', 'PoolQC', 'Fence', 'Utilities',\n",
    "    'LandSlope',  \n",
    "    'LotShape'    \n",
    "]"
   ]
  },
  {
   "cell_type": "code",
   "execution_count": 18,
   "id": "1b6fce55",
   "metadata": {},
   "outputs": [],
   "source": [
    "ordinal_set = set(ordinal_features)"
   ]
  },
  {
   "cell_type": "code",
   "execution_count": 19,
   "id": "881a25c2",
   "metadata": {},
   "outputs": [],
   "source": [
    "numerical_features = sorted(list(set(numerical_features) - ordinal_set))"
   ]
  },
  {
   "cell_type": "code",
   "execution_count": 20,
   "id": "1096fbaa",
   "metadata": {},
   "outputs": [],
   "source": [
    "categorical_features = list(set(categorical_features) - set(ordinal_set))"
   ]
  },
  {
   "cell_type": "code",
   "execution_count": null,
   "id": "b0ccdaf6",
   "metadata": {},
   "outputs": [],
   "source": [
    "print(\"Remaining Categorical Features:\")\n",
    "for col in categorical_features:\n",
    "    print(col)"
   ]
  },
  {
   "cell_type": "code",
   "execution_count": null,
   "id": "8cd04754",
   "metadata": {},
   "outputs": [],
   "source": [
    "print(f\"Numerical features:\")\n",
    "for col in numerical_features:\n",
    "    print(col)"
   ]
  },
  {
   "cell_type": "code",
   "execution_count": 12,
   "id": "193423d6",
   "metadata": {},
   "outputs": [],
   "source": [
    "categorical_features.append('MSSubClass')  # Adding 'MSSubClass' to categorical features"
   ]
  },
  {
   "cell_type": "code",
   "execution_count": 23,
   "id": "729e78fd",
   "metadata": {},
   "outputs": [],
   "source": [
    "all_classified = set(numerical_features + categorical_features + ordinal_features)\n",
    "unclassified_features = set(feature_columns) - all_classified"
   ]
  },
  {
   "cell_type": "code",
   "execution_count": 31,
   "id": "43aab5da",
   "metadata": {},
   "outputs": [
    {
     "name": "stdout",
     "output_type": "stream",
     "text": [
      "Total Features: 80\n",
      "Numerical Features: 35\n",
      "Categorical Features: 24\n",
      "Ordinal Features: 22\n",
      "Unclassified Features: set()\n"
     ]
    }
   ],
   "source": [
    "# Print the counts\n",
    "print(f\"Total Features: {total_features}\")\n",
    "print(f\"Numerical Features: {len(numerical_features)}\")\n",
    "print(f\"Categorical Features: {len(categorical_features)}\")\n",
    "print(f\"Ordinal Features: {len(ordinal_features)}\")\n",
    "print(f\"Unclassified Features: {unclassified_features}\")"
   ]
  },
  {
   "cell_type": "code",
   "execution_count": 32,
   "id": "8e532dcf",
   "metadata": {},
   "outputs": [],
   "source": [
    "df_numerical = df[numerical_features]\n",
    "df_categorical = df[categorical_features]\n",
    "df_ordinal = df[ordinal_features]"
   ]
  },
  {
   "cell_type": "code",
   "execution_count": null,
   "id": "482d08a8",
   "metadata": {},
   "outputs": [],
   "source": [
    "# Optional: preview them\n",
    "print(df_numerical.head())\n",
    "print(df_categorical.head())\n",
    "print(df_ordinal.head())"
   ]
  },
  {
   "cell_type": "markdown",
   "id": "36234cc2",
   "metadata": {},
   "source": [
    "# ADA"
   ]
  },
  {
   "cell_type": "code",
   "execution_count": 34,
   "id": "e4b5bc07",
   "metadata": {},
   "outputs": [],
   "source": [
    "from sklearn.preprocessing import MinMaxScaler"
   ]
  },
  {
   "cell_type": "code",
   "execution_count": 35,
   "id": "8e776e17",
   "metadata": {},
   "outputs": [],
   "source": [
    "scaler = MinMaxScaler(feature_range=(0, 10))"
   ]
  },
  {
   "cell_type": "code",
   "execution_count": null,
   "id": "1fd96096",
   "metadata": {},
   "outputs": [],
   "source": [
    "df_scaled_numerical_features = scaler.fit_transform(df_numerical)"
   ]
  }
 ],
 "metadata": {
  "kernelspec": {
   "display_name": ".venv",
   "language": "python",
   "name": "python3"
  },
  "language_info": {
   "codemirror_mode": {
    "name": "ipython",
    "version": 3
   },
   "file_extension": ".py",
   "mimetype": "text/x-python",
   "name": "python",
   "nbconvert_exporter": "python",
   "pygments_lexer": "ipython3",
   "version": "3.13.1"
  }
 },
 "nbformat": 4,
 "nbformat_minor": 5
}
